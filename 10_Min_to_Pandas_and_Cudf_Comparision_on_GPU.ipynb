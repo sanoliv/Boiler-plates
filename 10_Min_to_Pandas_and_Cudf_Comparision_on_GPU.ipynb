{
  "nbformat": 4,
  "nbformat_minor": 0,
  "metadata": {
    "colab": {
      "name": "10 Min to Pandas and Cudf Comparision on GPU.ipynb",
      "provenance": [],
      "toc_visible": true,
      "machine_shape": "hm",
      "include_colab_link": true
    },
    "kernelspec": {
      "name": "python3",
      "display_name": "Python 3"
    },
    "language_info": {
      "name": "python"
    },
    "accelerator": "GPU",
    "gpuClass": "standard"
  },
  "cells": [
    {
      "cell_type": "markdown",
      "metadata": {
        "id": "view-in-github",
        "colab_type": "text"
      },
      "source": [
        "<a href=\"https://colab.research.google.com/github/sanoliv/Boiler-plates/blob/main/10_Min_to_Pandas_and_Cudf_Comparision_on_GPU.ipynb\" target=\"_parent\"><img src=\"https://colab.research.google.com/assets/colab-badge.svg\" alt=\"Open In Colab\"/></a>"
      ]
    },
    {
      "cell_type": "markdown",
      "metadata": {
        "id": "BcMZfOu80MKZ"
      },
      "source": [
        "![](https://github.com/ashishpatel26/Rapidsai_Machine_learning_on_GPU/raw/main/images/rapidsailogo.jpg?raw=true)\n",
        "\n",
        "🤩**About Rapids**🤩\n",
        "\n",
        "- The RAPIDS suite of open source software libraries aim to enable execution of end-to-end data science and analytics pipelines entirely on GPUs. It relies on NVIDIA® CUDA® primitives for low-level compute optimization, but exposing that GPU parallelism and high-bandwidth memory speed through user-friendly Python interfaces.\n",
        "![](https://github.com/rapidsai/cudf/raw/branch-21.08/img/rapids_arrow.png)"
      ]
    },
    {
      "cell_type": "markdown",
      "metadata": {
        "id": "rwlAUfVlw8ih"
      },
      "source": [
        "### **What are these Libraries?**\n",
        "* [cuDF](https://github.com/rapidsai/cudf) is a Python GPU DataFrame library (built on the Apache Arrow columnar memory format) for loading, joining, aggregating, filtering, and otherwise manipulating tabular data using a DataFrame style API.\n",
        "\n",
        "* [Dask](https://dask.org/) is a flexible library for parallel computing in Python that makes scaling out your workflow smooth and simple. On the CPU, Dask uses Pandas to execute operations in parallel on DataFrame partitions.\n",
        "\n",
        "* [Dask-cuDF](https://github.com/rapidsai/cudf/tree/main/python/dask_cudfhttps://github.com/rapidsai/cudf/tree/main/python/dask_cudf) extends Dask where necessary to allow its DataFrame partitions to be processed by cuDF GPU DataFrames as opposed to Pandas DataFrames. For instance, when you call dask_cudf.read_csv(…), your cluster’s GPUs do the work of parsing the CSV file(s) with underlying cudf.read_csv().\n",
        "\n",
        "### **When to use cuDF and Dask-cuDF**\n",
        "* If your workflow is fast enough on a single GPU or your data comfortably fits in memory on a single GPU, you would want to use cuDF. If you want to distribute your workflow across multiple GPUs, have more data than you can fit in memory on a single GPU, or want to analyze data spread across many files at once, you would want to use Dask-cuDF.\n",
        "\n"
      ]
    },
    {
      "cell_type": "markdown",
      "metadata": {
        "id": "Og5tbCOQ6oKz"
      },
      "source": [
        "# 10 Min to Pandas and cuDF Comparision on GPU\n",
        "\n",
        "🎯 Built based on the Apache Arrow columnar memory format, cuDF is a GPU DataFrame library for loading, joining, aggregating, filtering, and otherwise manipulating data.\n",
        "\n",
        "🎯 cuDF provides a pandas-like API that will be familiar to data engineers & data scientists, so they can use it to easily accelerate their workflows without going into the details of CUDA programming."
      ]
    },
    {
      "cell_type": "markdown",
      "metadata": {
        "id": "o7QZPaX8KZcg"
      },
      "source": [
        "### **1.Installation of cuDF**\n",
        "\n",
        "> 🏹**Conda installation** - 📥Recommended\n",
        "\n",
        "```console\n",
        "# for CUDA 11.0\n",
        "conda install -c rapidsai -c nvidia -c numba -c conda-forge \\\n",
        "    cudf=21.06 python=3.7 cudatoolkit=11.0\n",
        "\n",
        "# or, for CUDA 11.2\n",
        "conda install -c rapidsai -c nvidia -c numba -c conda-forge \\\n",
        "    cudf=21.06 python=3.7 cudatoolkit=11.2\n",
        "```\n",
        "> 🏹**For Nightly Version**\n",
        "\n",
        "```console\n",
        "# for CUDA 11.0\n",
        "conda install -c rapidsai-nightly -c nvidia -c numba -c conda-forge \\\n",
        "    cudf python=3.7 cudatoolkit=11.0\n",
        "\n",
        "# or, for CUDA 11.2\n",
        "conda install -c rapidsai-nightly -c nvidia -c numba -c conda-forge \\\n",
        "    cudf python=3.7 cudatoolkit=11.2\n",
        "```\n",
        "> 🏹**PIP Installation**\n",
        "\n",
        "```console\n",
        "!pip install cudf\n",
        "```\n",
        "\n",
        "> 🏹**Colab Installation** - [![Open In Collab](https://colab.research.google.com/assets/colab-badge.svg)](https://colab.research.google.com/drive/1rY7Ln6rEE1pOlfSHCYOVaqt8OvDO35J0#forceEdit=true&offline=true&sandboxMode=true\n",
        ")"
      ]
    },
    {
      "cell_type": "code",
      "source": [
        "!wget -nc https://raw.githubusercontent.com/rapidsai/notebooks-contrib/master/utils/rapids-colab.sh\n",
        "!bash rapids-colab.sh\n"
      ],
      "metadata": {
        "id": "r-H32JFx0Iif",
        "outputId": "f846e6a4-f538-491f-8bb0-60a3d3f2a74f",
        "colab": {
          "base_uri": "https://localhost:8080/"
        }
      },
      "execution_count": null,
      "outputs": [
        {
          "output_type": "stream",
          "name": "stdout",
          "text": [
            "--2023-04-17 01:26:45--  https://raw.githubusercontent.com/rapidsai/notebooks-contrib/master/utils/rapids-colab.sh\n",
            "Resolving raw.githubusercontent.com (raw.githubusercontent.com)... 185.199.108.133, 185.199.109.133, 185.199.110.133, ...\n",
            "Connecting to raw.githubusercontent.com (raw.githubusercontent.com)|185.199.108.133|:443... connected.\n",
            "HTTP request sent, awaiting response... 200 OK\n",
            "Length: 6486 (6.3K) [text/plain]\n",
            "Saving to: ‘rapids-colab.sh’\n",
            "\n",
            "rapids-colab.sh     100%[===================>]   6.33K  --.-KB/s    in 0s      \n",
            "\n",
            "2023-04-17 01:26:45 (65.7 MB/s) - ‘rapids-colab.sh’ saved [6486/6486]\n",
            "\n",
            "PLEASE READ\n",
            "********************************************************************************************************\n",
            "Colab v0.11+ Migration Notice:\n",
            " \n",
            "There has been a NECESSARY Colab script code change for VERSION 0.11+ that MAY REQUIRE an update how you install RAPIDS into Colab!  \n",
            "Not all Colab notebooks are updated (like personal Colabs) and while the script will install RAPIDS correctly, \n",
            "a neccessary script to update pyarrow to v0.15.x to be compatible with RAPIDS v0.11+ may not run, and your RAPIDS instance\n",
            "will BREAK\n",
            " \n",
            "Please enter in the box your desired RAPIDS version (ex: '0.10' or '0.11', between 0.9 to 0.11, without the quotes) and hit Enter. \n"
          ]
        }
      ]
    },
    {
      "cell_type": "code",
      "source": [
        "import cudf\n",
        "df = cudf.DataFrame()\n",
        "df['a'] = [0, 1, 2, 3]\n",
        "df['b'] = [4, 5, 6, 7]\n",
        "print(df)\n"
      ],
      "metadata": {
        "id": "QACLaSTw0UfG",
        "outputId": "ec811bae-a6e5-4a9c-c11c-d87d8f7b5b2f",
        "colab": {
          "base_uri": "https://localhost:8080/",
          "height": 381
        }
      },
      "execution_count": 6,
      "outputs": [
        {
          "output_type": "error",
          "ename": "ModuleNotFoundError",
          "evalue": "ignored",
          "traceback": [
            "\u001b[0;31m---------------------------------------------------------------------------\u001b[0m",
            "\u001b[0;31mModuleNotFoundError\u001b[0m                       Traceback (most recent call last)",
            "\u001b[0;32m<ipython-input-6-986e475b8f1d>\u001b[0m in \u001b[0;36m<cell line: 1>\u001b[0;34m()\u001b[0m\n\u001b[0;32m----> 1\u001b[0;31m \u001b[0;32mimport\u001b[0m \u001b[0mcudf\u001b[0m\u001b[0;34m\u001b[0m\u001b[0;34m\u001b[0m\u001b[0m\n\u001b[0m\u001b[1;32m      2\u001b[0m \u001b[0mdf\u001b[0m \u001b[0;34m=\u001b[0m \u001b[0mcudf\u001b[0m\u001b[0;34m.\u001b[0m\u001b[0mDataFrame\u001b[0m\u001b[0;34m(\u001b[0m\u001b[0;34m)\u001b[0m\u001b[0;34m\u001b[0m\u001b[0;34m\u001b[0m\u001b[0m\n\u001b[1;32m      3\u001b[0m \u001b[0mdf\u001b[0m\u001b[0;34m[\u001b[0m\u001b[0;34m'a'\u001b[0m\u001b[0;34m]\u001b[0m \u001b[0;34m=\u001b[0m \u001b[0;34m[\u001b[0m\u001b[0;36m0\u001b[0m\u001b[0;34m,\u001b[0m \u001b[0;36m1\u001b[0m\u001b[0;34m,\u001b[0m \u001b[0;36m2\u001b[0m\u001b[0;34m,\u001b[0m \u001b[0;36m3\u001b[0m\u001b[0;34m]\u001b[0m\u001b[0;34m\u001b[0m\u001b[0;34m\u001b[0m\u001b[0m\n\u001b[1;32m      4\u001b[0m \u001b[0mdf\u001b[0m\u001b[0;34m[\u001b[0m\u001b[0;34m'b'\u001b[0m\u001b[0;34m]\u001b[0m \u001b[0;34m=\u001b[0m \u001b[0;34m[\u001b[0m\u001b[0;36m4\u001b[0m\u001b[0;34m,\u001b[0m \u001b[0;36m5\u001b[0m\u001b[0;34m,\u001b[0m \u001b[0;36m6\u001b[0m\u001b[0;34m,\u001b[0m \u001b[0;36m7\u001b[0m\u001b[0;34m]\u001b[0m\u001b[0;34m\u001b[0m\u001b[0;34m\u001b[0m\u001b[0m\n\u001b[1;32m      5\u001b[0m \u001b[0mprint\u001b[0m\u001b[0;34m(\u001b[0m\u001b[0mdf\u001b[0m\u001b[0;34m)\u001b[0m\u001b[0;34m\u001b[0m\u001b[0;34m\u001b[0m\u001b[0m\n",
            "\u001b[0;31mModuleNotFoundError\u001b[0m: No module named 'cudf'",
            "",
            "\u001b[0;31m---------------------------------------------------------------------------\u001b[0;32m\nNOTE: If your import is failing due to a missing package, you can\nmanually install dependencies using either !pip or !apt.\n\nTo view examples of installing some common dependencies, click the\n\"Open Examples\" button below.\n\u001b[0;31m---------------------------------------------------------------------------\u001b[0m\n"
          ],
          "errorDetails": {
            "actions": [
              {
                "action": "open_url",
                "actionText": "Open Examples",
                "url": "/notebooks/snippets/importing_libraries.ipynb"
              }
            ]
          }
        }
      ]
    },
    {
      "cell_type": "code",
      "source": [
        "# for CUDA 11.0\n",
        "conda install -c rapidsai -c nvidia -c numba -c conda-forge \\\n",
        "    cudf=21.06 python=3.7 cudatoolkit=11.0"
      ],
      "metadata": {
        "id": "ml5HDbmfy9jq",
        "outputId": "8eb5197a-0681-4712-fe73-771d3e6012d8",
        "colab": {
          "base_uri": "https://localhost:8080/",
          "height": 133
        }
      },
      "execution_count": 4,
      "outputs": [
        {
          "output_type": "error",
          "ename": "SyntaxError",
          "evalue": "ignored",
          "traceback": [
            "\u001b[0;36m  File \u001b[0;32m\"<ipython-input-4-a05a91ee31f7>\"\u001b[0;36m, line \u001b[0;32m2\u001b[0m\n\u001b[0;31m    conda install -c rapidsai -c nvidia -c numba -c conda-forge \\\u001b[0m\n\u001b[0m          ^\u001b[0m\n\u001b[0;31mSyntaxError\u001b[0m\u001b[0;31m:\u001b[0m invalid syntax\n"
          ]
        }
      ]
    },
    {
      "cell_type": "code",
      "source": [
        "\n",
        "\n",
        "# or, for CUDA 11.2\n",
        "conda install -c rapidsai -c nvidia -c numba -c conda-forge \\\n",
        "    cudf=21.06 python=3.7 cudatoolkit=11.2"
      ],
      "metadata": {
        "id": "Ivsg83wLytlC",
        "outputId": "44b38b82-2020-4a8e-f71b-c73d60ec598f",
        "colab": {
          "base_uri": "https://localhost:8080/",
          "height": 133
        }
      },
      "execution_count": 3,
      "outputs": [
        {
          "output_type": "error",
          "ename": "SyntaxError",
          "evalue": "ignored",
          "traceback": [
            "\u001b[0;36m  File \u001b[0;32m\"<ipython-input-3-6dafb5ee9199>\"\u001b[0;36m, line \u001b[0;32m2\u001b[0m\n\u001b[0;31m    conda install -c rapidsai -c nvidia -c numba -c conda-forge \\\u001b[0m\n\u001b[0m          ^\u001b[0m\n\u001b[0;31mSyntaxError\u001b[0m\u001b[0;31m:\u001b[0m invalid syntax\n"
          ]
        }
      ]
    },
    {
      "cell_type": "code",
      "metadata": {
        "id": "nNIeN25nz2U0",
        "outputId": "19616db9-2f50-44ef-93a1-6a92f9748836",
        "colab": {
          "base_uri": "https://localhost:8080/",
          "height": 1000
        }
      },
      "source": [
        "# Install RAPIDS\n",
        "!git clone https://github.com/rapidsai/rapidsai-csp-utils.git\n",
        "!bash rapidsai-csp-utils/colab/rapids-colab.sh stable\n",
        "\n",
        "import sys, os\n",
        "\n",
        "dist_package_index = sys.path.index('/usr/local/lib/python3.7/dist-packages')\n",
        "sys.path = sys.path[:dist_package_index] + ['/usr/local/lib/python3.7/site-packages'] + sys.path[dist_package_index:]\n",
        "sys.path\n",
        "exec(open('rapidsai-csp-utils/colab/update_modules.py').read(), globals())"
      ],
      "execution_count": 1,
      "outputs": [
        {
          "output_type": "stream",
          "name": "stdout",
          "text": [
            "Cloning into 'rapidsai-csp-utils'...\n",
            "remote: Enumerating objects: 385, done.\u001b[K\n",
            "remote: Counting objects: 100% (116/116), done.\u001b[K\n",
            "remote: Compressing objects: 100% (65/65), done.\u001b[K\n",
            "remote: Total 385 (delta 86), reused 51 (delta 51), pack-reused 269\u001b[K\n",
            "Receiving objects: 100% (385/385), 105.74 KiB | 6.61 MiB/s, done.\n",
            "Resolving deltas: 100% (188/188), done.\n",
            "PLEASE READ FOR 21.06\n",
            "********************************************************************************************************\n",
            "Another release, another script change.  We had to revise the script, which now:\n",
            "1. Does a more comprehensive install\n",
            "2. Includes BlazingSQL\n",
            "3. is far easier for everyone to understand and maintain\n",
            "\n",
            "The script will require you to add these 5 cells to your notebook.  We have also created a new startup template: \n",
            "https://colab.research.google.com/drive/1TAAi_szMfWqRfHVfjGSqnGVLr_ztzUM9?usp=sharing\n",
            "\n",
            "CHANGES T\n",
            "CELL 1:\n",
            "    # This get the RAPIDS-Colab install files and test check your GPU.  Run cells 1 and 2 only.\n",
            "    # Please read the output of this cell.  If your Colab Instance is not RAPIDS compatible, it will warn you and give you remediation steps.\n",
            "    !git clone https://github.com/rapidsai/rapidsai-csp-utils.git\n",
            "    !python rapidsai-csp-utils/colab/env-check.py\n",
            "\n",
            "CELL 2:\n",
            "    # This will update the Colab environment and restart the kernel.\n",
            "    !bash rapidsai-csp-utils/colab/update_gcc.sh\n",
            "    import os\n",
            "    os._exit(00)\n",
            "\n",
            "CELL 3:\n",
            "    ## Installing CondaColab.  This will restart your kernel again\n",
            "    import condacolab\n",
            "    condacolab.install()\n",
            "\n",
            "CELL 4:\n",
            "    import condacolab\n",
            "    condacolab.check()\n",
            "\n",
            "CELL 5:\n",
            "    # Installing RAPIDS is now 'python rapidsai-csp-utils/colab/install_rapids.py <release> <packages>'\n",
            "    # The <release> options are 'stable' and 'nightly'.  Leaving it blank or adding any other words will default to stable.\n",
            "    # The <packages> option are default blank or 'core'.  By default, we install RAPIDSAI and BlazingSQL.  The 'core' option will install only RAPIDSAI and not include BlazingSQL, \n",
            "    !python rapidsai-csp-utils/colab/install_rapids.py nightly\n",
            "    import os\n",
            "    os.environ['NUMBAPRO_NVVM'] = '/usr/local/cuda/nvvm/lib64/libnvvm.so'\n",
            "    os.environ['NUMBAPRO_LIBDEVICE'] = '/usr/local/cuda/nvvm/libdevice/'\n",
            "    os.environ['CONDA_PREFIX'] = '/usr/local'\n",
            "\n",
            "********************************************************************************************************\n",
            "\n",
            "Enjoy using RAPIDS!  If you have any issues with or suggestions for RAPIDSAI on Colab, please create a issue on https://github.com/rapidsai/rapidsai-csp-utils/issues/new.\n"
          ]
        },
        {
          "output_type": "error",
          "ename": "ValueError",
          "evalue": "ignored",
          "traceback": [
            "\u001b[0;31m---------------------------------------------------------------------------\u001b[0m",
            "\u001b[0;31mValueError\u001b[0m                                Traceback (most recent call last)",
            "\u001b[0;32m<ipython-input-1-fb7ed10361b8>\u001b[0m in \u001b[0;36m<cell line: 7>\u001b[0;34m()\u001b[0m\n\u001b[1;32m      5\u001b[0m \u001b[0;32mimport\u001b[0m \u001b[0msys\u001b[0m\u001b[0;34m,\u001b[0m \u001b[0mos\u001b[0m\u001b[0;34m\u001b[0m\u001b[0;34m\u001b[0m\u001b[0m\n\u001b[1;32m      6\u001b[0m \u001b[0;34m\u001b[0m\u001b[0m\n\u001b[0;32m----> 7\u001b[0;31m \u001b[0mdist_package_index\u001b[0m \u001b[0;34m=\u001b[0m \u001b[0msys\u001b[0m\u001b[0;34m.\u001b[0m\u001b[0mpath\u001b[0m\u001b[0;34m.\u001b[0m\u001b[0mindex\u001b[0m\u001b[0;34m(\u001b[0m\u001b[0;34m'/usr/local/lib/python3.7/dist-packages'\u001b[0m\u001b[0;34m)\u001b[0m\u001b[0;34m\u001b[0m\u001b[0;34m\u001b[0m\u001b[0m\n\u001b[0m\u001b[1;32m      8\u001b[0m \u001b[0msys\u001b[0m\u001b[0;34m.\u001b[0m\u001b[0mpath\u001b[0m \u001b[0;34m=\u001b[0m \u001b[0msys\u001b[0m\u001b[0;34m.\u001b[0m\u001b[0mpath\u001b[0m\u001b[0;34m[\u001b[0m\u001b[0;34m:\u001b[0m\u001b[0mdist_package_index\u001b[0m\u001b[0;34m]\u001b[0m \u001b[0;34m+\u001b[0m \u001b[0;34m[\u001b[0m\u001b[0;34m'/usr/local/lib/python3.7/site-packages'\u001b[0m\u001b[0;34m]\u001b[0m \u001b[0;34m+\u001b[0m \u001b[0msys\u001b[0m\u001b[0;34m.\u001b[0m\u001b[0mpath\u001b[0m\u001b[0;34m[\u001b[0m\u001b[0mdist_package_index\u001b[0m\u001b[0;34m:\u001b[0m\u001b[0;34m]\u001b[0m\u001b[0;34m\u001b[0m\u001b[0;34m\u001b[0m\u001b[0m\n\u001b[1;32m      9\u001b[0m \u001b[0msys\u001b[0m\u001b[0;34m.\u001b[0m\u001b[0mpath\u001b[0m\u001b[0;34m\u001b[0m\u001b[0;34m\u001b[0m\u001b[0m\n",
            "\u001b[0;31mValueError\u001b[0m: '/usr/local/lib/python3.7/dist-packages' is not in list"
          ]
        }
      ]
    },
    {
      "cell_type": "markdown",
      "metadata": {
        "id": "pyEf5REmKPP2"
      },
      "source": [
        "### **2.Import Libraries**"
      ]
    },
    {
      "cell_type": "code",
      "metadata": {
        "id": "rIZZanyM9116",
        "outputId": "edebfb9c-03f1-4415-e58a-21afcd19d94c",
        "colab": {
          "base_uri": "https://localhost:8080/",
          "height": 381
        }
      },
      "source": [
        "import os\n",
        "import cupy as cp\n",
        "import pandas as pd\n",
        "import cudf\n",
        "import dask_cudf\n",
        "import time\n",
        "\n",
        "cp.random.seed(2021)"
      ],
      "execution_count": 2,
      "outputs": [
        {
          "output_type": "error",
          "ename": "ModuleNotFoundError",
          "evalue": "ignored",
          "traceback": [
            "\u001b[0;31m---------------------------------------------------------------------------\u001b[0m",
            "\u001b[0;31mModuleNotFoundError\u001b[0m                       Traceback (most recent call last)",
            "\u001b[0;32m<ipython-input-2-f9b288165314>\u001b[0m in \u001b[0;36m<cell line: 4>\u001b[0;34m()\u001b[0m\n\u001b[1;32m      2\u001b[0m \u001b[0;32mimport\u001b[0m \u001b[0mcupy\u001b[0m \u001b[0;32mas\u001b[0m \u001b[0mcp\u001b[0m\u001b[0;34m\u001b[0m\u001b[0;34m\u001b[0m\u001b[0m\n\u001b[1;32m      3\u001b[0m \u001b[0;32mimport\u001b[0m \u001b[0mpandas\u001b[0m \u001b[0;32mas\u001b[0m \u001b[0mpd\u001b[0m\u001b[0;34m\u001b[0m\u001b[0;34m\u001b[0m\u001b[0m\n\u001b[0;32m----> 4\u001b[0;31m \u001b[0;32mimport\u001b[0m \u001b[0mcudf\u001b[0m\u001b[0;34m\u001b[0m\u001b[0;34m\u001b[0m\u001b[0m\n\u001b[0m\u001b[1;32m      5\u001b[0m \u001b[0;32mimport\u001b[0m \u001b[0mdask_cudf\u001b[0m\u001b[0;34m\u001b[0m\u001b[0;34m\u001b[0m\u001b[0m\n\u001b[1;32m      6\u001b[0m \u001b[0;32mimport\u001b[0m \u001b[0mtime\u001b[0m\u001b[0;34m\u001b[0m\u001b[0;34m\u001b[0m\u001b[0m\n",
            "\u001b[0;31mModuleNotFoundError\u001b[0m: No module named 'cudf'",
            "",
            "\u001b[0;31m---------------------------------------------------------------------------\u001b[0;32m\nNOTE: If your import is failing due to a missing package, you can\nmanually install dependencies using either !pip or !apt.\n\nTo view examples of installing some common dependencies, click the\n\"Open Examples\" button below.\n\u001b[0;31m---------------------------------------------------------------------------\u001b[0m\n"
          ],
          "errorDetails": {
            "actions": [
              {
                "action": "open_url",
                "actionText": "Open Examples",
                "url": "/notebooks/snippets/importing_libraries.ipynb"
              }
            ]
          }
        }
      ]
    },
    {
      "cell_type": "code",
      "metadata": {
        "id": "uN7PMypCKBSy"
      },
      "source": [
        "print(cudf.__version__)\n",
        "print(dask_cudf.__version__)\n",
        "print(pd.__version__)"
      ],
      "execution_count": null,
      "outputs": []
    },
    {
      "cell_type": "markdown",
      "metadata": {
        "id": "MibXCZWxKhQV"
      },
      "source": [
        "### **3.Object Creation**\n",
        "\n",
        "| Framework  | Pandas | cudf | daskcudf |\n",
        "| ---- | ---- | ---- | ---- |\n",
        "| Time | 3.84ms| 9.6ms| 18.5ms |"
      ]
    },
    {
      "cell_type": "code",
      "metadata": {
        "id": "pAZiIh_9KIMy"
      },
      "source": [
        "%%time\n",
        "# 1. Pandas\n",
        "s = pd.Series([1,2,3,None, 4])\n",
        "print(s)"
      ],
      "execution_count": null,
      "outputs": []
    },
    {
      "cell_type": "code",
      "metadata": {
        "id": "Oo5Os88rKvg3"
      },
      "source": [
        "%%time\n",
        "# 2. cudf\n",
        "s = cudf.Series([1,2,3,None, 4])\n",
        "print(s)"
      ],
      "execution_count": null,
      "outputs": []
    },
    {
      "cell_type": "code",
      "metadata": {
        "id": "B_DPHvgPK1H5"
      },
      "source": [
        "%%time\n",
        "ds = dask_cudf.from_cudf(s, npartitions=2)\n",
        "print(ds.compute())"
      ],
      "execution_count": null,
      "outputs": []
    },
    {
      "cell_type": "markdown",
      "metadata": {
        "id": "BZZ8s241Lgwg"
      },
      "source": [
        "### **4.Loading Dataset**\n",
        "\n",
        "| Framework  | Pandas | cudf | daskcudf |\n",
        "| ---- | ---- | ---- | ---- |\n",
        "| Time | 2.42s| 1.52s| 1.62s |\n"
      ]
    },
    {
      "cell_type": "code",
      "metadata": {
        "id": "cn9FxHB9LWZ2"
      },
      "source": [
        "%%time\n",
        "# 1.Pandas\n",
        "data = pd.read_csv(\"https://storage.googleapis.com/industryanalytics/LoanDefaultData.csv\")\n",
        "display(data.head(2))"
      ],
      "execution_count": null,
      "outputs": []
    },
    {
      "cell_type": "code",
      "metadata": {
        "id": "I8HVNiVOL2QK"
      },
      "source": [
        "%%time\n",
        "# 2.cudf\n",
        "data_cudf = cudf.read_csv(\"https://storage.googleapis.com/industryanalytics/LoanDefaultData.csv\")\n",
        "display(data_cudf.head(2))"
      ],
      "execution_count": null,
      "outputs": []
    },
    {
      "cell_type": "code",
      "metadata": {
        "id": "UGmWoX7mMCSI"
      },
      "source": [
        "%%time\n",
        "# 3.dask_cudf\n",
        "data_daskcudf = dask_cudf.from_cudf(cudf.read_csv(\"https://storage.googleapis.com/industryanalytics/LoanDefaultData.csv\"), npartitions=8)\n",
        "display(data_daskcudf.head(2))"
      ],
      "execution_count": null,
      "outputs": []
    },
    {
      "cell_type": "markdown",
      "metadata": {
        "id": "nQnti2G6OCdx"
      },
      "source": [
        "### **5.Convert Pandas data to cudf and dask_cudf**\n",
        "\n",
        "| Framework  | Pandas to cudf | Pandas to daskcudf |\n",
        "| ---- | ---- | ---- | \n",
        "| Time | 2.73s| 2.84s| "
      ]
    },
    {
      "cell_type": "code",
      "metadata": {
        "id": "8F8jTGjyMOj1"
      },
      "source": [
        "%%time\n",
        "# 1. cudf from pandas\n",
        "data = pd.read_csv(\"https://storage.googleapis.com/industryanalytics/LoanDefaultData.csv\")\n",
        "cudf_data = cudf.DataFrame.from_pandas(data)\n",
        "cudf_data"
      ],
      "execution_count": null,
      "outputs": []
    },
    {
      "cell_type": "code",
      "metadata": {
        "id": "RLc1hcXXOhXa"
      },
      "source": [
        "%%time\n",
        "# 2. dask_cudf from pandas\n",
        "data = pd.read_csv(\"https://storage.googleapis.com/industryanalytics/LoanDefaultData.csv\")\n",
        "cudf_data = cudf.DataFrame.from_pandas(data)\n",
        "daskcudf_data = dask_cudf.from_cudf(cudf_data, npartitions=2)"
      ],
      "execution_count": null,
      "outputs": []
    },
    {
      "cell_type": "markdown",
      "metadata": {
        "id": "wpRsaO_oPcX4"
      },
      "source": [
        "### **6.Viewing Data**\n",
        "\n",
        "| Framework  | Pandas | cudf | daskcudf |\n",
        "| ---- | ---- | ---- | ---- |\n",
        "| Time | 241 µs| 4.32ms| 12.7ms |"
      ]
    },
    {
      "cell_type": "code",
      "metadata": {
        "id": "YBE38_6RPS26"
      },
      "source": [
        "%%time\n",
        "# 1.Pandas\n",
        "data.head()"
      ],
      "execution_count": null,
      "outputs": []
    },
    {
      "cell_type": "code",
      "metadata": {
        "id": "DyTuwky-PjHm"
      },
      "source": [
        "%%time\n",
        "# 2.cudf\n",
        "cudf_data.head()"
      ],
      "execution_count": null,
      "outputs": []
    },
    {
      "cell_type": "code",
      "metadata": {
        "id": "1J1dxTGwP2-v"
      },
      "source": [
        "%%time\n",
        "# 3.daskcudf\n",
        "daskcudf_data.head()"
      ],
      "execution_count": null,
      "outputs": []
    },
    {
      "cell_type": "markdown",
      "metadata": {
        "id": "76sXlhjKQdE9"
      },
      "source": [
        "### **7.Sorting Values**\n",
        "\n",
        "| Framework  | Pandas | cudf | daskcudf |\n",
        "| ---- | ---- | ---- | ---- |\n",
        "| Time | 149ms| 37.8ms| 4.67s |"
      ]
    },
    {
      "cell_type": "code",
      "metadata": {
        "id": "wGiMTOT9QBi1"
      },
      "source": [
        "%%time\n",
        "# 1.Pandas\n",
        "data.sort_values('cust_id').head()"
      ],
      "execution_count": null,
      "outputs": []
    },
    {
      "cell_type": "code",
      "metadata": {
        "id": "nJn3QmH-Qs48"
      },
      "source": [
        "%%time\n",
        "# 2.cudf\n",
        "cudf_data.sort_values('cust_id').head()"
      ],
      "execution_count": null,
      "outputs": []
    },
    {
      "cell_type": "code",
      "metadata": {
        "id": "hFimfRmvQzHr"
      },
      "source": [
        "%%time\n",
        "# 3.daskcudf\n",
        "daskcudf_data.sort_values('cust_id').head()"
      ],
      "execution_count": null,
      "outputs": []
    },
    {
      "cell_type": "markdown",
      "metadata": {
        "id": "hqUnkaLGRJxG"
      },
      "source": [
        "### **8.Selection**\n",
        "\n",
        "| Framework  | Pandas | cudf | daskcudf |\n",
        "| ---- | ---- | ---- | ---- |\n",
        "| Time | 46.3µs| 1.18ms| 7.37ms |"
      ]
    },
    {
      "cell_type": "code",
      "metadata": {
        "id": "teaPG8YKRCn_"
      },
      "source": [
        "%%time\n",
        "# 1. Pandas\n",
        "data[\"state\"]"
      ],
      "execution_count": null,
      "outputs": []
    },
    {
      "cell_type": "code",
      "metadata": {
        "id": "TPNTlpeSRWEA"
      },
      "source": [
        "%%time\n",
        "# 2. cudf\n",
        "cudf_data[\"state\"]"
      ],
      "execution_count": null,
      "outputs": []
    },
    {
      "cell_type": "code",
      "metadata": {
        "id": "sXaT5zXGRe3h"
      },
      "source": [
        "%%time\n",
        "# 3. cudf\n",
        "daskcudf_data[\"state\"].compute()"
      ],
      "execution_count": null,
      "outputs": []
    },
    {
      "cell_type": "markdown",
      "metadata": {
        "id": "KPQSkfU0R7t3"
      },
      "source": [
        "### **9.Selection By label**\n",
        "\n",
        "| Framework  | Pandas | cudf | daskcudf |\n",
        "| ---- | ---- | ---- | ---- |\n",
        "| Time | 1.4ms| 1.82ms| 7.45ms |"
      ]
    },
    {
      "cell_type": "code",
      "metadata": {
        "id": "9hitlTHxRsWo"
      },
      "source": [
        "%%time\n",
        "# 1.Pandas\n",
        "data.loc[1:100, [\"state\",\"income_type\"]]"
      ],
      "execution_count": null,
      "outputs": []
    },
    {
      "cell_type": "code",
      "metadata": {
        "id": "YslnK_GvSO_h"
      },
      "source": [
        "%%time\n",
        "# 2.cudf\n",
        "cudf_data.loc[1:100, [\"state\",\"income_type\"]]"
      ],
      "execution_count": null,
      "outputs": []
    },
    {
      "cell_type": "code",
      "metadata": {
        "id": "eTMPD8KgSXXE"
      },
      "source": [
        "%%time\n",
        "# 3.daskcudf\n",
        "daskcudf_data.loc[1:100, [\"state\",\"income_type\"]].compute()"
      ],
      "execution_count": null,
      "outputs": []
    },
    {
      "cell_type": "markdown",
      "metadata": {
        "id": "zs42IUlxTjvZ"
      },
      "source": [
        "### **10.Selection by Position**\n",
        "\n",
        "| Framework  | Pandas | cudf | daskcudf |\n",
        "| ---- | ---- | ---- | ---- |\n",
        "| Time | 1.4ms| 1.82ms| 30.1ms |"
      ]
    },
    {
      "cell_type": "code",
      "metadata": {
        "id": "NdydKR8gTYMd"
      },
      "source": [
        "%%time\n",
        "# 1.Pandas\n",
        "data.iloc[4:10, 0:2].head()"
      ],
      "execution_count": null,
      "outputs": []
    },
    {
      "cell_type": "code",
      "metadata": {
        "id": "ybeAmy7ZT2k2"
      },
      "source": [
        "%%time\n",
        "# 2.cudf\n",
        "cudf_data.iloc[4:10, 0:2].head()"
      ],
      "execution_count": null,
      "outputs": []
    },
    {
      "cell_type": "code",
      "metadata": {
        "id": "MckZlV3OUDZQ"
      },
      "source": [
        "%%time\n",
        "# 3.daskcudf\n",
        "daskcudf_data.compute().iloc[4:10, 0:2].head()"
      ],
      "execution_count": null,
      "outputs": []
    },
    {
      "cell_type": "markdown",
      "metadata": {
        "id": "JJBzxPtwUtuf"
      },
      "source": [
        "### **11.Boolean Indexing**\n",
        "\n",
        "| Framework  | Pandas | cudf | daskcudf |\n",
        "| ---- | ---- | ---- | ---- |\n",
        "| Time | 182ms| 34.7ms| 9.8ms |"
      ]
    },
    {
      "cell_type": "code",
      "metadata": {
        "id": "kff8QGmTUMEk"
      },
      "source": [
        "%%time\n",
        "# 1. Pandas\n",
        "data[data.cust_id>83000]"
      ],
      "execution_count": null,
      "outputs": []
    },
    {
      "cell_type": "code",
      "metadata": {
        "id": "--NnxiZuU_2D"
      },
      "source": [
        "%%time\n",
        "# 2. cudf\n",
        "cudf_data[cudf_data.cust_id>83000]"
      ],
      "execution_count": null,
      "outputs": []
    },
    {
      "cell_type": "code",
      "metadata": {
        "id": "DJPmb3nMVIGx"
      },
      "source": [
        "%%time\n",
        "# 3. daskcudf\n",
        "daskcudf_data[daskcudf_data.cust_id>83000]"
      ],
      "execution_count": null,
      "outputs": []
    },
    {
      "cell_type": "markdown",
      "metadata": {
        "id": "QhzisI-6Vnjc"
      },
      "source": [
        "### **12.Query API**\n",
        "\n",
        "| Framework  | Pandas | cudf | daskcudf |\n",
        "| ---- | ---- | ---- | ---- |\n",
        "| Time | 189ms| 178ms| 75.5ms |\n"
      ]
    },
    {
      "cell_type": "code",
      "metadata": {
        "id": "U-IwBLdkVZng"
      },
      "source": [
        "%%time\n",
        "# 1. pandas\n",
        "data.query(\"cust_id > 83000\")"
      ],
      "execution_count": null,
      "outputs": []
    },
    {
      "cell_type": "code",
      "metadata": {
        "id": "5OBBg4shWElw"
      },
      "source": [
        "%%time\n",
        "# 2. cudf\n",
        "cudf_data.query(\"cust_id > 83000\")"
      ],
      "execution_count": null,
      "outputs": []
    },
    {
      "cell_type": "code",
      "metadata": {
        "id": "fYmswPvOX0g-"
      },
      "source": [
        "%%time\n",
        "# 3. daskcudf\n",
        "daskcudf_data.query(\"cust_id > 83000\").compute()"
      ],
      "execution_count": null,
      "outputs": []
    },
    {
      "cell_type": "markdown",
      "metadata": {
        "id": "vPE3xQU7YFvb"
      },
      "source": [
        "### **13.`isin` Method**\n",
        "\n",
        "| Framework  | Pandas | cudf | daskcudf |\n",
        "| ---- | ---- | ---- | ---- |\n",
        "| Time | 49.9ms| 44.2ms| 67.5ms |\n"
      ]
    },
    {
      "cell_type": "code",
      "metadata": {
        "id": "SGuacKa9X_Bc"
      },
      "source": [
        "%%time\n",
        "# 1. Pandas\n",
        "data[data.state.isin([\"Bihar\", \"Odisha\"])]"
      ],
      "execution_count": null,
      "outputs": []
    },
    {
      "cell_type": "code",
      "metadata": {
        "id": "JNki9uweYt-G"
      },
      "source": [
        "%%time\n",
        "# 2. cudf\n",
        "cudf_data[cudf_data.state.isin([\"Bihar\", \"Odisha\"])]"
      ],
      "execution_count": null,
      "outputs": []
    },
    {
      "cell_type": "code",
      "metadata": {
        "id": "aWScJdm0Y3dM"
      },
      "source": [
        "%%time\n",
        "# 3. daskcudf\n",
        "daskcudf_data[daskcudf_data.state.isin([\"Bihar\", \"Odisha\"])].compute()"
      ],
      "execution_count": null,
      "outputs": []
    },
    {
      "cell_type": "markdown",
      "metadata": {
        "id": "K9YW2_paZU36"
      },
      "source": [
        "### **14.MultiIndex**\n",
        "\n",
        "| Framework  | Pandas | cudf |\n",
        "| ---- | ---- | ---- | \n",
        "| Time | 5.9ms| 12.9ms|"
      ]
    },
    {
      "cell_type": "code",
      "metadata": {
        "id": "ys-aUnHMZAZQ"
      },
      "source": [
        "%%time\n",
        "# 1. Pandas\n",
        "arrays = [['a', 'a', 'b', 'b'], [1, 2, 3, 4]]\n",
        "tuples = list(zip(*arrays))\n",
        "idx = pd.MultiIndex.from_tuples(tuples)\n",
        "display(idx)"
      ],
      "execution_count": null,
      "outputs": []
    },
    {
      "cell_type": "code",
      "metadata": {
        "id": "_gYtKtHKaUWx"
      },
      "source": [
        "%%time\n",
        "# 2. cudf\n",
        "arrays = [['a', 'a', 'b', 'b'], [1, 2, 3, 4]]\n",
        "tuples = list(zip(*arrays))\n",
        "idx = cudf.MultiIndex.from_tuples(tuples)\n",
        "display(idx)"
      ],
      "execution_count": null,
      "outputs": []
    },
    {
      "cell_type": "markdown",
      "metadata": {
        "id": "yBOOkxqNcWi-"
      },
      "source": [
        "### **15.Missing Data**\n",
        "\n",
        "| Framework  | Pandas | cudf | daskcudf |\n",
        "| ---- | ---- | ---- | ---- |\n",
        "| Time | 380ms| 29.8ms| 85.4ms |\n"
      ]
    },
    {
      "cell_type": "code",
      "metadata": {
        "id": "IIMhpbfFcYuX"
      },
      "source": [
        "%%time\n",
        "# 1. Pandas\n",
        "data.fillna(999)"
      ],
      "execution_count": null,
      "outputs": []
    },
    {
      "cell_type": "code",
      "metadata": {
        "id": "l0rGhduXcdrs"
      },
      "source": [
        "%%time\n",
        "# 2.cudf\n",
        "cudf_data.fillna(999)"
      ],
      "execution_count": null,
      "outputs": []
    },
    {
      "cell_type": "code",
      "metadata": {
        "id": "cE5qwyjmcj0S"
      },
      "source": [
        "%%time\n",
        "# 3.cudf\n",
        "daskcudf_data.fillna(999).compute()"
      ],
      "execution_count": null,
      "outputs": []
    },
    {
      "cell_type": "markdown",
      "metadata": {
        "id": "WwfRi4P6dFd_"
      },
      "source": [
        "### **16.Statistics Operation**\n",
        "\n",
        "| Framework  | Pandas | cudf | daskcudf |\n",
        "| ---- | ---- | ---- | ---- |\n",
        "| Time | 5.7ms| 4.51ms| 651ms |\n"
      ]
    },
    {
      "cell_type": "code",
      "metadata": {
        "id": "ZtAbOlLmc1Jo"
      },
      "source": [
        "%%time\n",
        "# 1.Pandas\n",
        "data.total_pymnt.mean(), data.total_pymnt.var()"
      ],
      "execution_count": null,
      "outputs": []
    },
    {
      "cell_type": "code",
      "metadata": {
        "id": "alMonzfKdYEK"
      },
      "source": [
        "%%time\n",
        "# 2.cudf\n",
        "cudf_data.total_pymnt.mean(), cudf_data.total_pymnt.var()"
      ],
      "execution_count": null,
      "outputs": []
    },
    {
      "cell_type": "code",
      "metadata": {
        "id": "IYjhSWhnddq2"
      },
      "source": [
        "%%time\n",
        "# 3.daskcudf\n",
        "daskcudf_data.total_pymnt.mean().compute(), daskcudf_data.total_pymnt.var().compute()"
      ],
      "execution_count": null,
      "outputs": []
    },
    {
      "cell_type": "markdown",
      "metadata": {
        "id": "4roXqlKmd6kd"
      },
      "source": [
        "### **17.Applymap**\n",
        "\n",
        "| Framework  | Pandas | cudf | daskcudf |\n",
        "| ---- | ---- | ---- | ---- |\n",
        "| Time | 211ms| 1.84ms| 7.16ms |\n"
      ]
    },
    {
      "cell_type": "code",
      "metadata": {
        "id": "aUrBHtNYdmOR"
      },
      "source": [
        "%%time\n",
        "# 1.Pandas\n",
        "def add(n):\n",
        "  return n + 5\n",
        "data[\"total_pymnt\"].apply(add)"
      ],
      "execution_count": null,
      "outputs": []
    },
    {
      "cell_type": "code",
      "metadata": {
        "id": "72t4ITDoeMh6"
      },
      "source": [
        "%%time\n",
        "# 2.cudf\n",
        "def add(n):\n",
        "  return n + 5\n",
        "cudf_data[\"total_pymnt\"].applymap(add)"
      ],
      "execution_count": null,
      "outputs": []
    },
    {
      "cell_type": "code",
      "metadata": {
        "id": "b95gdBToeU0V"
      },
      "source": [
        "%%time\n",
        "# 3.daskcudf\n",
        "def add(n):\n",
        "  return n + 5\n",
        "daskcudf_data[\"total_pymnt\"].compute().applymap(add)"
      ],
      "execution_count": null,
      "outputs": []
    },
    {
      "cell_type": "markdown",
      "metadata": {
        "id": "vOgHCu0pfDVO"
      },
      "source": [
        "### **18. Histogramming**\n",
        "\n",
        "| Framework  | Pandas | cudf | daskcudf |\n",
        "| ---- | ---- | ---- | ---- |\n",
        "| Time | 68.4ms| 23.5ms| 36.5ms |"
      ]
    },
    {
      "cell_type": "code",
      "metadata": {
        "id": "l3rcEofIeqj8"
      },
      "source": [
        "%%time\n",
        "# 1. Pandas\n",
        "data[\"state\"].value_counts()"
      ],
      "execution_count": null,
      "outputs": []
    },
    {
      "cell_type": "code",
      "metadata": {
        "id": "JfLfktfDfaYa"
      },
      "source": [
        "%%time\n",
        "# 2. cudf\n",
        "cudf_data[\"state\"].value_counts()"
      ],
      "execution_count": null,
      "outputs": []
    },
    {
      "cell_type": "code",
      "metadata": {
        "id": "dxPss05Ufdf_"
      },
      "source": [
        "%%time\n",
        "# 3. daskcudf\n",
        "daskcudf_data[\"state\"].value_counts().compute()"
      ],
      "execution_count": null,
      "outputs": []
    },
    {
      "cell_type": "markdown",
      "metadata": {
        "id": "o9t2TsJQf1w0"
      },
      "source": [
        "### **19.String Methods**\n",
        "\n",
        "| Framework  | Pandas | cudf | daskcudf |\n",
        "| ---- | ---- | ---- | ---- |\n",
        "| Time | 3.59ms| 6.17ms| 16.4ms |"
      ]
    },
    {
      "cell_type": "code",
      "metadata": {
        "id": "Jdt5jn25gEh_"
      },
      "source": [
        "states = data.state.unique().tolist()"
      ],
      "execution_count": null,
      "outputs": []
    },
    {
      "cell_type": "code",
      "metadata": {
        "id": "1x63pPDUfoI8"
      },
      "source": [
        "%%time\n",
        "# 1.Pandas\n",
        "s = pd.Series(states)\n",
        "print(s.str.lower())"
      ],
      "execution_count": null,
      "outputs": []
    },
    {
      "cell_type": "code",
      "metadata": {
        "id": "6NV6_EMPgaiJ"
      },
      "source": [
        "%%time\n",
        "# 2.cudf\n",
        "s_cudf = cudf.Series(states)\n",
        "print(s_cudf.str.lower())"
      ],
      "execution_count": null,
      "outputs": []
    },
    {
      "cell_type": "code",
      "metadata": {
        "id": "eQT68gcpgpPh"
      },
      "source": [
        "%%time\n",
        "# 3.daskcudf\n",
        "s_daskcudf = dask_cudf.from_cudf(cudf.Series(states), npartitions=2)\n",
        "print(s_daskcudf.str.lower().compute())"
      ],
      "execution_count": null,
      "outputs": []
    },
    {
      "cell_type": "markdown",
      "metadata": {
        "id": "I9aHMoIthUgw"
      },
      "source": [
        "### **20.Concat**\n",
        "\n",
        "| Framework  | Pandas | cudf | daskcudf |\n",
        "| ---- | ---- | ---- | ---- |\n",
        "| Time | 1.41ms| 2.28ms| 11.1ms |"
      ]
    },
    {
      "cell_type": "code",
      "metadata": {
        "id": "0Z9yxWuag0_C"
      },
      "source": [
        "%%time\n",
        "# 1. Pandas\n",
        "pd.concat([s,s])"
      ],
      "execution_count": null,
      "outputs": []
    },
    {
      "cell_type": "code",
      "metadata": {
        "id": "TLhMMB2gh5fI"
      },
      "source": [
        "%%time\n",
        "# 2. cudf\n",
        "cudf.concat([s_cudf,s_cudf])"
      ],
      "execution_count": null,
      "outputs": []
    },
    {
      "cell_type": "code",
      "metadata": {
        "id": "lakEil2OihZX"
      },
      "source": [
        "%%time\n",
        "# 3. daskcudf\n",
        "dask_cudf.concat([s_daskcudf,s_daskcudf]).compute()"
      ],
      "execution_count": null,
      "outputs": []
    },
    {
      "cell_type": "markdown",
      "metadata": {
        "id": "i3RVyRZOlSyG"
      },
      "source": [
        "### **21.Join**\n",
        "\n",
        "| Framework  | Pandas | cudf | daskcudf |\n",
        "| ---- | ---- | ---- | ---- |\n",
        "| Time | 15.7ms| 9.05ms| 30.2ms |"
      ]
    },
    {
      "cell_type": "code",
      "metadata": {
        "id": "hSmz6tqBi2A9"
      },
      "source": [
        "%%time\n",
        "# 1.Pandas\n",
        "df_a = pd.DataFrame()\n",
        "df_a['key'] = ['a', 'b', 'c', 'd', 'e']\n",
        "df_a['vals_a'] = [float(i + 10) for i in range(5)]\n",
        "\n",
        "df_b = pd.DataFrame()\n",
        "df_b['key'] = ['a', 'c', 'e']\n",
        "df_b['vals_b'] = [float(i+100) for i in range(3)]\n",
        "\n",
        "merged = df_a.merge(df_b, on=['key'], how='left')\n",
        "merged.head()"
      ],
      "execution_count": null,
      "outputs": []
    },
    {
      "cell_type": "code",
      "metadata": {
        "id": "5uRav7zQmRWX"
      },
      "source": [
        "%%time\n",
        "# 2.cudf\n",
        "df_a = cudf.DataFrame()\n",
        "df_a['key'] = ['a', 'b', 'c', 'd', 'e']\n",
        "df_a['vals_a'] = [float(i + 10) for i in range(5)]\n",
        "\n",
        "df_b = cudf.DataFrame()\n",
        "df_b['key'] = ['a', 'c', 'e']\n",
        "df_b['vals_b'] = [float(i+100) for i in range(3)]\n",
        "\n",
        "merged = df_a.merge(df_b, on=['key'], how='left')\n",
        "merged.head()"
      ],
      "execution_count": null,
      "outputs": []
    },
    {
      "cell_type": "code",
      "metadata": {
        "id": "VV0z5LO7mdzS"
      },
      "source": [
        "%%time\n",
        "# 3.daskcudf\n",
        "ddf_a = dask_cudf.from_cudf(df_a, npartitions=2)\n",
        "ddf_b = dask_cudf.from_cudf(df_b, npartitions=2)\n",
        "\n",
        "merged = ddf_a.merge(ddf_b, on=['key'], how='left').compute()\n",
        "merged"
      ],
      "execution_count": null,
      "outputs": []
    },
    {
      "cell_type": "markdown",
      "metadata": {
        "id": "ChSYeLP-nZ9O"
      },
      "source": [
        "### **22.Append**\n",
        "\n",
        "| Framework  | Pandas | cudf | daskcudf |\n",
        "| ---- | ---- | ---- | ---- |\n",
        "| Time | 574µs| 4.26ms| 30.2ms |"
      ]
    },
    {
      "cell_type": "code",
      "metadata": {
        "id": "RsIteatanF-Q"
      },
      "source": [
        "%%time\n",
        "# 1. Pandas\n",
        "s.append(s)"
      ],
      "execution_count": null,
      "outputs": []
    },
    {
      "cell_type": "code",
      "metadata": {
        "id": "P0VORRLsnluH"
      },
      "source": [
        "%%time\n",
        "# 2. cudf\n",
        "s_cudf.append(s_cudf)"
      ],
      "execution_count": null,
      "outputs": []
    },
    {
      "cell_type": "code",
      "metadata": {
        "id": "-SCuJHc9n3kP"
      },
      "source": [
        "%%time\n",
        "# 3.daskcudf\n",
        "s_daskcudf.append(s_daskcudf).compute()"
      ],
      "execution_count": null,
      "outputs": []
    },
    {
      "cell_type": "markdown",
      "metadata": {
        "id": "ExM2xetUpVu-"
      },
      "source": [
        "### **23.Grouping**\n",
        "\n",
        "| Framework  | Pandas | cudf |\n",
        "| ---- | ---- | ---- | \n",
        "| Time | 792ms| 270ms| "
      ]
    },
    {
      "cell_type": "code",
      "metadata": {
        "id": "dCgxZ14coO2e"
      },
      "source": [
        "%%time\n",
        "# 1.Pandas\n",
        "data[\"agg_col1\"] = [1 if x % 2 == 0 else 0 for x in range(len(data[\"total_pymnt\"]))]\n",
        "data[\"agg_col2\"] = [1 if x % 2 == 0 else 0 for x in range(len(data[\"total_pymnt\"]))]\n",
        "\n",
        "data.groupby('agg_col1').sum()"
      ],
      "execution_count": null,
      "outputs": []
    },
    {
      "cell_type": "code",
      "metadata": {
        "id": "xXmJyDncpl8k"
      },
      "source": [
        "%%time\n",
        "# 2.cudf\n",
        "cudf_data[\"agg_col1\"] = [1 if x % 2 == 0 else 0 for x in range(len(cudf_data[\"total_pymnt\"]))]\n",
        "cudf_data[\"agg_col2\"] = [1 if x % 2 == 0 else 0 for x in range(len(cudf_data[\"total_pymnt\"]))]\n",
        "cudf_data.groupby('agg_col1').sum()"
      ],
      "execution_count": null,
      "outputs": []
    },
    {
      "cell_type": "markdown",
      "metadata": {
        "id": "lukIetwqpbJU"
      },
      "source": [
        "### **24.Transpose**\n",
        "\n",
        "| Framework  | Pandas | cudf | \n",
        "| ---- | ---- | ---- | \n",
        "| Time | 1.1ms| 3.13ms|"
      ]
    },
    {
      "cell_type": "code",
      "metadata": {
        "id": "W0CdwmwlpcrK"
      },
      "source": [
        "%%time\n",
        "# 1.Pandas\n",
        "sample = pd.DataFrame({'a': [1, 2, 3], 'b': [4, 5, 6]})\n",
        "sample.transpose()"
      ],
      "execution_count": null,
      "outputs": []
    },
    {
      "cell_type": "code",
      "metadata": {
        "id": "whdo53G9sMrP"
      },
      "source": [
        "%%time\n",
        "# 2.cudf\n",
        "sample_cudf = cudf.DataFrame({'a': [1, 2, 3], 'b': [4, 5, 6]})\n",
        "sample_cudf.transpose()"
      ],
      "execution_count": null,
      "outputs": []
    },
    {
      "cell_type": "markdown",
      "metadata": {
        "id": "rUo_oD4MpdUN"
      },
      "source": [
        "### **25.Time Series**\n",
        "\n",
        "| Framework  | Pandas | cudf | daskcudf |\n",
        "| ---- | ---- | ---- | ---- |\n",
        "| Time | 213ms| 330ms| 79ms |"
      ]
    },
    {
      "cell_type": "code",
      "metadata": {
        "id": "o8ipzbuipesn"
      },
      "source": [
        "%%time\n",
        "# 1.Pandas\n",
        "import datetime as dt\n",
        "\n",
        "data[\"date_issued\"] = pd.to_datetime(data[\"date_issued\"])\n",
        "search_date = dt.datetime.strptime('2015-11-23', '%Y-%m-%d')\n",
        "display(data.query('date_issued <= @search_date'))"
      ],
      "execution_count": null,
      "outputs": []
    },
    {
      "cell_type": "code",
      "metadata": {
        "id": "1wYGu0Yvuudd"
      },
      "source": [
        "%%time\n",
        "# 2.cudf\n",
        "import datetime as dt\n",
        "\n",
        "cudf_data[\"date_issued\"] = cudf.to_datetime(cudf_data[\"date_issued\"])\n",
        "search_date = dt.datetime.strptime('2015-11-23', '%Y-%m-%d')\n",
        "display(cudf_data.query('date_issued <= @search_date'))"
      ],
      "execution_count": null,
      "outputs": []
    },
    {
      "cell_type": "code",
      "metadata": {
        "id": "JoDkREHNvWw0"
      },
      "source": [
        "%%time\n",
        "# 3.daskcudf\n",
        "date_ddf = dask_cudf.from_cudf(cudf_data, npartitions=2)\n",
        "date_ddf.query('date_issued <= @search_date', local_dict={'search_date':search_date}).compute()"
      ],
      "execution_count": null,
      "outputs": []
    },
    {
      "cell_type": "markdown",
      "metadata": {
        "id": "PH0dQjH2wBYd"
      },
      "source": [
        "### **Conclusion**\n",
        "\n",
        "* As per above example with this large scale [dataset](https://www.kaggle.com/c/home-credit-default-risk) cudf is working really faster on similar to pandas in somecases it beats pandas speed on operations."
      ]
    },
    {
      "cell_type": "markdown",
      "metadata": {
        "id": "wrkq0zWXwxaV"
      },
      "source": [
        "### References\n",
        "\n",
        "1. https://docs.rapids.ai/api/cudf/stable/10min.html\n",
        "2. https://www.kaggle.com/c/home-credit-default-risk"
      ]
    }
  ]
}